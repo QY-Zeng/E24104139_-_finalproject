{
 "cells": [
  {
   "cell_type": "code",
   "execution_count": 24,
   "id": "6795e182-3936-4977-8be6-1296bce2a906",
   "metadata": {},
   "outputs": [
    {
     "ename": "SystemExit",
     "evalue": "",
     "output_type": "error",
     "traceback": [
      "An exception has occurred, use %tb to see the full traceback.\n",
      "\u001b[1;31mSystemExit\u001b[0m\n"
     ]
    }
   ],
   "source": [
    "import pygame\n",
    "import sys\n",
    "\n",
    "# 初始化 Pygame\n",
    "pygame.init()\n",
    "\n",
    "# 設定視窗大小和字體\n",
    "screen = pygame.display.set_mode((1024, 700))\n",
    "pygame.display.set_caption(\"逐字顯示文字\")\n",
    "\n",
    "# 替換為支援中文的字體，請確保字體檔案存在\n",
    "font = pygame.font.Font(\"Font/msjh.ttf\", 30)\n",
    "\n",
    "# 設定文字和顏色\n",
    "text = \"在某個小鎮，一座歷史悠久且充滿靈氣的廟宇——靈宿廟，因一場突如其來的天災而受到毀滅性的破壞。這座廟宇不僅是鎮上居民精神的寄託，更是國家級的重要古蹟，擁有深厚的文化意義。然而，廟宇的結構過於精密，僅靠普通的建築技術難以完全復原。\"\n",
    "text_color = (255, 255, 255)  # 白色\n",
    "bg_color = (0, 0, 0)  # 黑色\n",
    "\n",
    "# 主迴圈變數\n",
    "clock = pygame.time.Clock()\n",
    "displayed_text = \"\"  # 初始化為空字串\n",
    "char_index = 0  # 當前文字索引\n",
    "frame_counter = 0  # 幀計數\n",
    "\n",
    "while True:\n",
    "    for event in pygame.event.get():\n",
    "        if event.type == pygame.QUIT:\n",
    "            pygame.quit()\n",
    "            sys.exit()\n",
    "\n",
    "    # 控制文字顯示速度\n",
    "    frame_counter += 1\n",
    "    if frame_counter % 5 == 0:  # 每 5 幀顯示一個字\n",
    "        if char_index < len(text):\n",
    "            current_char = text[char_index]\n",
    "            displayed_text += current_char\n",
    "            char_index += 1\n",
    "\n",
    "            # 自動在逗號和句號後添加換行\n",
    "            if current_char in \"，。\":\n",
    "                displayed_text += \"\\n\"\n",
    "\n",
    "    # 畫面繪製\n",
    "    screen.fill(bg_color)\n",
    "\n",
    "    # 分行顯示文字\n",
    "    y_offset = 100  # 起始 Y 偏移\n",
    "    line_height = 40  # 行距\n",
    "    lines = displayed_text.split(\"\\n\")  # 如果文字中包含換行符號\n",
    "    for line in lines:\n",
    "        rendered_line = font.render(line, True, text_color)\n",
    "        screen.blit(rendered_line, (50, y_offset))\n",
    "        y_offset += line_height\n",
    "\n",
    "    pygame.display.flip()\n",
    "    clock.tick(30)  # 控制畫面更新頻率\n"
   ]
  },
  {
   "cell_type": "code",
   "execution_count": null,
   "id": "eaa87c10-322f-4051-a2f9-bbfe37a2db83",
   "metadata": {},
   "outputs": [],
   "source": []
  },
  {
   "cell_type": "code",
   "execution_count": 2,
   "id": "5634024a-1c16-4c19-8bed-dc0c243f4f88",
   "metadata": {},
   "outputs": [
    {
     "name": "stdout",
     "output_type": "stream",
     "text": [
      "pygame 2.6.1 (SDL 2.28.4, Python 3.12.4)\n",
      "Hello from the pygame community. https://www.pygame.org/contribute.html\n"
     ]
    },
    {
     "ename": "SystemExit",
     "evalue": "",
     "output_type": "error",
     "traceback": [
      "An exception has occurred, use %tb to see the full traceback.\n",
      "\u001b[1;31mSystemExit\u001b[0m\n"
     ]
    },
    {
     "name": "stderr",
     "output_type": "stream",
     "text": [
      "C:\\Users\\zengq\\anaconda3\\Lib\\site-packages\\IPython\\core\\interactiveshell.py:3585: UserWarning: To exit: use 'exit', 'quit', or Ctrl-D.\n",
      "  warn(\"To exit: use 'exit', 'quit', or Ctrl-D.\", stacklevel=1)\n"
     ]
    }
   ],
   "source": [
    "import pygame\n",
    "import sys\n",
    "\n",
    "pygame.init()\n",
    "\n",
    "# 畫面設置\n",
    "screen = pygame.display.set_mode((400, 300))\n",
    "clock = pygame.time.Clock()\n",
    "\n",
    "# 載入圖片並設定初始角度\n",
    "icon = pygame.image.load(\"picture/loading.jpeg\")  # 載入圖片\n",
    "icon = pygame.transform.scale(icon, (100, 100))  # 調整大小\n",
    "icon_rect = icon.get_rect(center=(200, 150))\n",
    "angle = 0  # 初始角度\n",
    "\n",
    "# 主迴圈\n",
    "running = True\n",
    "while running:\n",
    "    for event in pygame.event.get():\n",
    "        if event.type == pygame.QUIT:\n",
    "            running = False\n",
    "\n",
    "    # 更新邏輯\n",
    "    angle = (angle + 5) % 360  # 每次更新角度\n",
    "    rotated_icon = pygame.transform.rotate(icon, angle)\n",
    "    rotated_rect = rotated_icon.get_rect(center=icon_rect.center)\n",
    "\n",
    "    # 畫面更新\n",
    "    screen.fill((30, 30, 30))  # 背景顏色\n",
    "    screen.blit(rotated_icon, rotated_rect)\n",
    "    pygame.display.flip()\n",
    "    clock.tick(30)  # 控制每秒幀數\n",
    "\n",
    "pygame.quit()\n",
    "sys.exit()\n"
   ]
  },
  {
   "cell_type": "code",
   "execution_count": 6,
   "id": "e2b9c64f-60f6-44e7-8dc0-a280cde6dbee",
   "metadata": {},
   "outputs": [
    {
     "ename": "SystemExit",
     "evalue": "",
     "output_type": "error",
     "traceback": [
      "An exception has occurred, use %tb to see the full traceback.\n",
      "\u001b[1;31mSystemExit\u001b[0m\n"
     ]
    }
   ],
   "source": [
    "import pygame\n",
    "import sys\n",
    "\n",
    "pygame.init()\n",
    "\n",
    "# 畫面設置\n",
    "screen = pygame.display.set_mode((400, 300))\n",
    "clock = pygame.time.Clock()\n",
    "font = pygame.font.Font(None, 50)\n",
    "\n",
    "# 初始化參數\n",
    "dots = 0  # 小數點的數量\n",
    "loading_text = \"loading\"\n",
    "\n",
    "# 主迴圈\n",
    "running = True\n",
    "while running:\n",
    "    for event in pygame.event.get():\n",
    "        if event.type == pygame.QUIT:\n",
    "            running = False\n",
    "\n",
    "    # 更新邏輯\n",
    "    dots = (dots + 1) % 7  # 循環顯示 0~6 個小數點\n",
    "\n",
    "    # 畫面更新\n",
    "    screen.fill((30, 30, 30))  # 背景顏色\n",
    "    text_surface = font.render(loading_text + \".\" * dots, True, (255, 255, 255))\n",
    "    text_rect = text_surface.get_rect(center=(200, 150))\n",
    "    screen.blit(text_surface, text_rect)\n",
    "    pygame.display.flip()\n",
    "    clock.tick(2)  # 每秒更新 5 次\n",
    "\n",
    "pygame.quit()\n",
    "sys.exit()\n"
   ]
  },
  {
   "cell_type": "code",
   "execution_count": null,
   "id": "17a51eff-1ae6-47d4-a970-2689e281ab1c",
   "metadata": {},
   "outputs": [],
   "source": []
  }
 ],
 "metadata": {
  "kernelspec": {
   "display_name": "Python 3 (ipykernel)",
   "language": "python",
   "name": "python3"
  },
  "language_info": {
   "codemirror_mode": {
    "name": "ipython",
    "version": 3
   },
   "file_extension": ".py",
   "mimetype": "text/x-python",
   "name": "python",
   "nbconvert_exporter": "python",
   "pygments_lexer": "ipython3",
   "version": "3.12.4"
  }
 },
 "nbformat": 4,
 "nbformat_minor": 5
}
